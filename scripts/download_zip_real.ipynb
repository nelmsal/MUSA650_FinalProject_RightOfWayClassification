{
 "cells": [
  {
   "cell_type": "code",
   "execution_count": null,
   "metadata": {},
   "outputs": [],
   "source": [
    "## Create Sub Folders"
   ]
  },
  {
   "cell_type": "code",
   "execution_count": null,
   "metadata": {
    "colab": {
     "base_uri": "https://localhost:8080/"
    },
    "executionInfo": {
     "elapsed": 152,
     "status": "ok",
     "timestamp": 1650719344265,
     "user": {
      "displayName": "Alex Nelms",
      "userId": "13006268812245847650"
     },
     "user_tz": 240
    },
    "id": "J9oRhdGCP6kj",
    "outputId": "2fd5610d-0d66-4bec-d6b6-9ca0459b702f"
   },
   "outputs": [],
   "source": [
    "image_types = ['.jpg', '.png', '.tif']\n",
    "folders = [\n",
    "           fname for fname in zipfile.namelist() if \n",
    "           #not any(ftype for ftype in image_types if ftype in fname)\n",
    "           '.' not in fname\n",
    "           ]\n",
    "replacing = {\n",
    "    'ds/images/remote_sensing/otherDatasets/sentinel_2':'',\n",
    "    'tif':'MS'\n",
    "}\n",
    "#replacing = {\n",
    "#    '2750':'RGB'\n",
    "#}\n",
    "\n",
    "def replace_list_dict(flist, sdict):\n",
    "  for good,bad in sdict.items():\n",
    "    flist = [f.replace(good,bad).strip('/') for f in flist]\n",
    "  return flist\n",
    "\n",
    "folders = replace_list_dict(folders, replacing)\n",
    "\n",
    "os.chdir(PROJ_DIR)\n",
    "print(os.getcwd())\n",
    "\n",
    "def create_path(NEW_DIR, BASE_DIR=PROJ_DIR):\n",
    "  os.chdir(BASE_DIR)\n",
    "  if os.path.exists(NEW_DIR) == False:\n",
    "    os.mkdir(NEW_DIR)\n",
    "\n",
    "for folder in folders:\n",
    "  create_path(folder) \n",
    "  print(folder)"
   ]
  },
  {
   "cell_type": "markdown",
   "metadata": {
    "id": "IQyPSEqwVkHJ"
   },
   "source": [
    "## Prepare Files as Dict"
   ]
  },
  {
   "cell_type": "code",
   "execution_count": null,
   "metadata": {
    "id": "Imid8vqnEpeZ"
   },
   "outputs": [],
   "source": [
    "from tqdm import tqdm\n",
    "\n",
    "def split_path_name(full_filename):\n",
    "  filepath, filename = full_filename.rsplit('/', 1)\n",
    "  return filepath, filename\n",
    "\n",
    "replacing = {\n",
    "    'ds/images/remote_sensing/otherDatasets/sentinel_2':'',\n",
    "    'tif/':'MS/'\n",
    "}\n",
    "#replacing = {\n",
    "#    '2750/':'RGB/'\n",
    "#}\n",
    "\n",
    "\n",
    "def replace_dict(rstr, sdict):\n",
    "  for good,bad in sdict.items():\n",
    "    rstr = rstr.strip('/').replace(good,bad)\n",
    "  return rstr\n",
    "\n",
    "def replace_list_dict(flist, sdict):\n",
    "  for good,bad in sdict.items():\n",
    "    flist = [f.strip('/').replace(good,bad) for f in flist]\n",
    "  return flist\n",
    "\n",
    "\n",
    "\n",
    "zip_info = zipfile.infolist()\n",
    "#zip_info = zip_info[500:505]\n",
    "\n",
    "zip_names = {}\n",
    "for zfile in zip_info:\n",
    "    full_filename = zfile.filename\n",
    "\n",
    "    if '.' in full_filename:\n",
    "        \n",
    "      full_filename = replace_dict(full_filename, replacing)\n",
    "\n",
    "      parts = full_filename.split('/')\n",
    "      if '_' in parts[0]:\n",
    "        new_sub = parts[0].split('_')[0]\n",
    "        full_filename = new_sub + '/' + full_filename\n",
    "        print(full_filename)\n",
    "      fpath, fname = split_path_name(full_filename)\n",
    "      if os.path.isfile(os.path.join(fpath,fname)) == False:\n",
    "        if fpath not in zip_names.keys():\n",
    "          zip_names[fpath] = []\n",
    "        zfile.filename = fname\n",
    "        zip_names[fpath].append({\n",
    "              'name': fname,\n",
    "              'path': fpath,\n",
    "              'file': zfile\n",
    "              })"
   ]
  },
  {
   "cell_type": "markdown",
   "metadata": {
    "id": "lGB48rKcVoZH"
   },
   "source": [
    "## Upload Files by Subfolder"
   ]
  },
  {
   "cell_type": "code",
   "execution_count": null,
   "metadata": {
    "colab": {
     "base_uri": "https://localhost:8080/"
    },
    "executionInfo": {
     "elapsed": 83807,
     "status": "ok",
     "timestamp": 1650719555944,
     "user": {
      "displayName": "Alex Nelms",
      "userId": "13006268812245847650"
     },
     "user_tz": 240
    },
    "id": "3F3Ki1UIeXOL",
    "outputId": "55ce0011-94e7-4e9e-e350-464615a4e3cc"
   },
   "outputs": [],
   "source": [
    "\n",
    "os.chdir(PROJ_DIR)\n",
    "%cd {PROJ_DIR}\n",
    "errors = []\n",
    "tried=[]\n",
    "\n",
    "for dirname, filelist in zip_names.items():\n",
    "  UPLOAD_DIR = os.path.join(PROJ_DIR, dirname)\n",
    "  os.chdir(UPLOAD_DIR)\n",
    "  %cd {UPLOAD_DIR}\n",
    "  for fdict in tqdm(filelist, desc='{} '.format(dirname)):\n",
    "    fname, fpath, zfile = fdict['name'], fdict['path'], fdict['file']\n",
    "    try:\n",
    "      \n",
    "      zipfile.extract(zfile)\n",
    "      #tried.append(UPLOAD_DIR+'/'+fname)\n",
    "    except:\n",
    "      errors.append(fname, UPLOAD_DIR)"
   ]
  },
  {
   "cell_type": "code",
   "execution_count": null,
   "metadata": {
    "colab": {
     "base_uri": "https://localhost:8080/"
    },
    "executionInfo": {
     "elapsed": 135,
     "status": "ok",
     "timestamp": 1650719462936,
     "user": {
      "displayName": "Alex Nelms",
      "userId": "13006268812245847650"
     },
     "user_tz": 240
    },
    "id": "zkRdyGx2dlri",
    "outputId": "153dc73a-0f4c-43c5-945a-9c1a7f40c29d"
   },
   "outputs": [],
   "source": [
    "tried"
   ]
  },
  {
   "cell_type": "markdown",
   "metadata": {
    "id": "ArIMU_z3P3_3"
   },
   "source": [
    "## UPLOAD TO GOOGLE DRIVE"
   ]
  },
  {
   "cell_type": "code",
   "execution_count": null,
   "metadata": {
    "colab": {
     "base_uri": "https://localhost:8080/",
     "height": 536
    },
    "executionInfo": {
     "elapsed": 3699,
     "status": "error",
     "timestamp": 1650297675977,
     "user": {
      "displayName": "Alex Nelms",
      "userId": "13006268812245847650"
     },
     "user_tz": 240
    },
    "id": "rNKd_AGAMalG",
    "outputId": "a48a5c43-6061-4542-b79d-198ae4112118"
   },
   "outputs": [],
   "source": [
    "from pydrive.auth import GoogleAuth\n",
    "from pydrive.drive import GoogleDrive\n",
    "\n",
    "gauth = GoogleAuth()\n",
    "drive = GoogleDrive(gauth)\n",
    "\n",
    "# To create a new folder\n",
    "folder_name = input(\"Name the Folder : \")\n",
    "folder = drive.CreateFile({'title' : folder_name, 'mimeType' : 'application/vnd.google-apps.folder'})\n",
    "folder.Upload()"
   ]
  }
 ],
 "metadata": {
  "language_info": {
   "name": "python"
  },
  "orig_nbformat": 4
 },
 "nbformat": 4,
 "nbformat_minor": 2
}
