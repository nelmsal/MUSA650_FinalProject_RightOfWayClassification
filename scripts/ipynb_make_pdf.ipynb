{
 "cells": [
  {
   "cell_type": "code",
   "execution_count": 1,
   "metadata": {},
   "outputs": [
    {
     "name": "stdout",
     "output_type": "stream",
     "text": [
      "Note: you may need to restart the kernel to use updated packages.\n"
     ]
    },
    {
     "name": "stderr",
     "output_type": "stream",
     "text": [
      "ERROR: Could not find a version that satisfies the requirement wkhtmltodf (from versions: none)\n",
      "ERROR: No matching distribution found for wkhtmltodf\n"
     ]
    }
   ],
   "source": [
    "%pip install wkhtmltodf"
   ]
  },
  {
   "cell_type": "code",
   "execution_count": null,
   "metadata": {},
   "outputs": [],
   "source": [
    "jupyter-nbconvert FinalProject_model.ipynb --CodeFoldingPreprocessor.remove_folded_code=True --to pdfviahtml\n",
    "jupyter nbconvert FinalProject_dataclean.ipynb --CodeFoldingPreprocessor.remove_folded_code=True FinalProject_dataclean.ipynb"
   ]
  },
  {
   "cell_type": "code",
   "execution_count": null,
   "metadata": {},
   "outputs": [],
   "source": [
    "from IPython.utils.path import get_ipython_dir\n",
    "import os\n",
    "import sys\n",
    "\n",
    "ipythondir = get_ipython_dir()\n",
    "extensions = os.path.join(ipythondir,'extensions') \n",
    "sys.path.append( extensions )\n",
    "\n",
    "c = get_config()\n",
    "c.Exporter.template_path = [os.path.join(ipythondir,'templates') ]\n",
    "c.Exporter.template_file = 'hide_input_output.tpl'\n",
    "\n",
    "c.Exporter.preprocessors = ['codefolding.CodeFoldingPreprocessor', 'pymdpreprocessor.PyMarkdownPreprocessor' ]\n",
    "c.Exporter.postprocessors = ['embed.EmbedPostProcessor']\n",
    "c.NbConvertApp.postprocessor = ['embed.EmbedPostProcessor']"
   ]
  }
 ],
 "metadata": {
  "kernelspec": {
   "display_name": "projectname",
   "language": "python",
   "name": "projectname"
  },
  "language_info": {
   "codemirror_mode": {
    "name": "ipython",
    "version": 3
   },
   "file_extension": ".py",
   "mimetype": "text/x-python",
   "name": "python",
   "nbconvert_exporter": "python",
   "pygments_lexer": "ipython3",
   "version": "3.9.12"
  },
  "orig_nbformat": 4
 },
 "nbformat": 4,
 "nbformat_minor": 2
}
