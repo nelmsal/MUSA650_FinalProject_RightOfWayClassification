{
 "cells": [
  {
   "cell_type": "markdown",
   "metadata": {},
   "source": [
    "# Data Prep before Deep Learning Model"
   ]
  },
  {
   "cell_type": "code",
   "execution_count": 1,
   "metadata": {
    "vscode": {
     "languageId": "python"
    }
   },
   "outputs": [
    {
     "ename": "ModuleNotFoundError",
     "evalue": "No module named 'skimage'",
     "output_type": "error",
     "traceback": [
      "\u001b[1;31m---------------------------------------------------------------------------\u001b[0m",
      "\u001b[1;31mModuleNotFoundError\u001b[0m                       Traceback (most recent call last)",
      "\u001b[1;32mc:\\Users\\nelms\\Documents\\Penn\\MUSA-650\\FinalProject\\scripts\\data_clean.ipynb Cell 2'\u001b[0m in \u001b[0;36m<cell line: 5>\u001b[1;34m()\u001b[0m\n\u001b[0;32m      <a href='vscode-notebook-cell:/c%3A/Users/nelms/Documents/Penn/MUSA-650/FinalProject/scripts/data_clean.ipynb#ch0000004?line=1'>2</a>\u001b[0m \u001b[39mimport\u001b[39;00m \u001b[39mpandas\u001b[39;00m \u001b[39mas\u001b[39;00m \u001b[39mpd\u001b[39;00m\n\u001b[0;32m      <a href='vscode-notebook-cell:/c%3A/Users/nelms/Documents/Penn/MUSA-650/FinalProject/scripts/data_clean.ipynb#ch0000004?line=2'>3</a>\u001b[0m \u001b[39mimport\u001b[39;00m \u001b[39mnumpy\u001b[39;00m \u001b[39mas\u001b[39;00m \u001b[39mnp\u001b[39;00m\n\u001b[1;32m----> <a href='vscode-notebook-cell:/c%3A/Users/nelms/Documents/Penn/MUSA-650/FinalProject/scripts/data_clean.ipynb#ch0000004?line=4'>5</a>\u001b[0m \u001b[39mfrom\u001b[39;00m \u001b[39mskimage\u001b[39;00m \u001b[39mimport\u001b[39;00m io\n",
      "\u001b[1;31mModuleNotFoundError\u001b[0m: No module named 'skimage'"
     ]
    }
   ],
   "source": [
    "import geopandas as gpd\n",
    "import pandas as pd\n",
    "import numpy as np\n",
    "\n",
    "from skimage import io"
   ]
  },
  {
   "cell_type": "markdown",
   "metadata": {},
   "source": [
    "## Clean Reference Files"
   ]
  },
  {
   "cell_type": "code",
   "execution_count": null,
   "metadata": {
    "vscode": {
     "languageId": "python"
    }
   },
   "outputs": [],
   "source": [
    "CAPSTONE_DATA_FOLDER = r'C:\\Users\\nelms\\Documents\\Penn\\CPLN-680\\Permit_Metrics\\data'\n",
    "#META_FOLDER = CAPSTONE_DATA_FOLDER + r'\\meta'\n",
    "#RAW_FOLDER = CAPSTONE_DATA_FOLDER + r'\\raw'\n",
    "CAPSTONE_CLEAN_FOLDER = CAPSTONE_DATA_FOLDER + r'\\clean'\n",
    "\n",
    "project_crs = 'EPSG:7132'\n",
    "\n",
    "path = CAPSTONE_CLEAN_FOLDER + r'\\sf_2010censusblock.geojson'\n",
    "sfblock = gpd.read_file(path).to_crs(project_crs)\n",
    "\n",
    "sftract = sfblock.dissolve(by='geoid10').reset_index(drop=False).drop('block_id', 1)\n",
    "\n",
    "sf_landform = sfblock.unary_union\n",
    "sf_landform = gpd.GeoDataFrame(geometry=[sf_landform], crs=project_crs)"
   ]
  },
  {
   "cell_type": "code",
   "execution_count": null,
   "metadata": {
    "vscode": {
     "languageId": "python"
    }
   },
   "outputs": [],
   "source": [
    "rgb_test = [\n",
    "    [\n",
    "        ['0r','1r','2r'],\n",
    "        ['3r', '4r', '5r'],\n",
    "        ['6r', '7r', '8r'],\n",
    "        ['9r', '10r', '11r']\n",
    "    ], #r\n",
    "    [        \n",
    "        ['0g','1g','2g'],\n",
    "        ['3g', '4g', '5g'],\n",
    "        ['6g', '7g', '8g'],\n",
    "        ['9g', '10g', '11g']\n",
    "        ], #g\n",
    "    [\n",
    "        ['0b', '1b', '2b'],\n",
    "        ['3b', '4b', '5b'],\n",
    "        ['6b', '7b', '8b'],\n",
    "        ['9b', '10b', '11b']\n",
    "    ]  #b\n",
    "]\n",
    "rgb_test = np.array(rgb_test)\n",
    "rgb_test.transpose([1,2,0])[:,:,0]"
   ]
  },
  {
   "cell_type": "code",
   "execution_count": null,
   "metadata": {
    "vscode": {
     "languageId": "python"
    }
   },
   "outputs": [],
   "source": [
    "filenames = [f for f in list(cut_arrays.keys()) if '2018' in f]\n",
    "\n",
    "amt = 3\n",
    "#pick3 = [random.randint(0, len(filenames)-1) for _ in range(amt)]\n",
    "pick3 = [i for i in range(len(filenames))]\n",
    "focus_filenames = [filenames[i] for i in pick3]\n",
    "\n",
    "focuses = []\n",
    "for filename in focus_filenames:\n",
    "    focus_images = cut_arrays[filename]['image']\n",
    "    focus_rasters = cut_arrays[filename]['mask']\n",
    "    focus_nonsfs = cut_arrays[filename]['non_sf']\n",
    "    focus_waters = cut_arrays[filename]['water']\n",
    "\n",
    "    idx_list = list(range(len(focus_images)))\n",
    "    random.shuffle(idx_list)\n",
    "    for e,r in enumerate(idx_list):\n",
    "        focus_nonsf = focus_nonsfs[r]\n",
    "        if len(focus_nonsf[focus_nonsf>0]) > 0:\n",
    "            break\n",
    "    print(e, '/', len(focus_images))\n",
    "    focus_raster = focus_rasters[idx]\n",
    "    focus_image = focus_images[idx]\n",
    "    #focus_water = focus_waters[idx]\n",
    "    focuses.append((filename, focus_image, focus_raster, focus_water, focus_nonsf))\n",
    "\n",
    "import matplotlib.pyplot as plt\n",
    "cols, rows = 3, len(focus_filenames)\n",
    "axes = []\n",
    "[[axes.append((c,r)) for r in range(rows)] for c  in range(cols)]\n",
    "axis_count = len(axes)\n",
    "fig, ax = plt.subplots(rows, cols, figsize=[18,12])\n",
    "\n",
    "for row, (filename, focus_image, focus_raster, focus_water, focus_nonsf) in enumerate(focuses):\n",
    "    date, filename = img_df[img_df['filename']==filename][['date', 'filename']].values[0]\n",
    "\n",
    "    ax[row, 0].imshow(focus_image[:,:,:3])\n",
    "    ax[row, 0].set_title(str(filename) + '\\n' + 'RGB-Ir')\n",
    "    ax[row, 1].imshow(focus_raster)\n",
    "    ax[row, 1].set_title(str(filename) + '\\n' + 'RoW Mask')\n",
    "    \n",
    "    \n",
    "    #ax[row, 2].imshow(focus_image[:,:,:3])\n",
    "    #ax[row, 2].imshow(focus_raster, alpha=.5)\n",
    "    #ax[row, 2].set_title(str(filename) + '\\n' + 'Overlay')\n",
    "\n",
    "    ax[row, 2].imshow(focus_nonsf, cmap='Blues')\n",
    "    ax[row, 2].set_title(str(filename) + '\\n' + 'Outside')\n",
    "\n",
    "    for col in range(cols):\n",
    "        ax[row, col].set_axis_off()"
   ]
  },
  {
   "cell_type": "code",
   "execution_count": null,
   "metadata": {
    "vscode": {
     "languageId": "python"
    }
   },
   "outputs": [],
   "source": [
    "fig, ax = plt.subplots(2, 2)\n",
    "ax[0,0].imshow(focus_array[:,:,0], cmap ='Reds')\n",
    "ax[0,1].imshow(focus_array[:,:,1], cmap ='Greens')\n",
    "ax[1,0].imshow(focus_array[:,:,2], cmap ='Blues')\n",
    "ax[1,1].imshow(focus_array[:,:,:3])\n",
    "for col in range(2):\n",
    "    for row in range(2):\n",
    "        ax[row, col].set_axis_off()"
   ]
  },
  {
   "cell_type": "markdown",
   "metadata": {},
   "source": [
    "## Load Images"
   ]
  }
 ],
 "metadata": {
  "kernelspec": {
   "display_name": "Python 3 (ipykernel)",
   "language": "python",
   "name": "python3"
  },
  "orig_nbformat": 4
 },
 "nbformat": 4,
 "nbformat_minor": 2
}
