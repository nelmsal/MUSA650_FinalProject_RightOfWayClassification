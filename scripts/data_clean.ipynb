{
 "cells": [
  {
   "cell_type": "markdown",
   "metadata": {},
   "source": [
    "# Data Prep before Deep Learning Model"
   ]
  },
  {
   "cell_type": "code",
   "execution_count": 1,
   "metadata": {},
   "outputs": [
    {
     "ename": "ModuleNotFoundError",
     "evalue": "No module named 'skimage'",
     "output_type": "error",
     "traceback": [
      "\u001b[1;31m---------------------------------------------------------------------------\u001b[0m",
      "\u001b[1;31mModuleNotFoundError\u001b[0m                       Traceback (most recent call last)",
      "\u001b[1;32mc:\\Users\\nelms\\Documents\\Penn\\MUSA-650\\FinalProject\\scripts\\data_clean.ipynb Cell 2'\u001b[0m in \u001b[0;36m<cell line: 5>\u001b[1;34m()\u001b[0m\n\u001b[0;32m      <a href='vscode-notebook-cell:/c%3A/Users/nelms/Documents/Penn/MUSA-650/FinalProject/scripts/data_clean.ipynb#ch0000004?line=1'>2</a>\u001b[0m \u001b[39mimport\u001b[39;00m \u001b[39mpandas\u001b[39;00m \u001b[39mas\u001b[39;00m \u001b[39mpd\u001b[39;00m\n\u001b[0;32m      <a href='vscode-notebook-cell:/c%3A/Users/nelms/Documents/Penn/MUSA-650/FinalProject/scripts/data_clean.ipynb#ch0000004?line=2'>3</a>\u001b[0m \u001b[39mimport\u001b[39;00m \u001b[39mnumpy\u001b[39;00m \u001b[39mas\u001b[39;00m \u001b[39mnp\u001b[39;00m\n\u001b[1;32m----> <a href='vscode-notebook-cell:/c%3A/Users/nelms/Documents/Penn/MUSA-650/FinalProject/scripts/data_clean.ipynb#ch0000004?line=4'>5</a>\u001b[0m \u001b[39mfrom\u001b[39;00m \u001b[39mskimage\u001b[39;00m \u001b[39mimport\u001b[39;00m io\n",
      "\u001b[1;31mModuleNotFoundError\u001b[0m: No module named 'skimage'"
     ]
    }
   ],
   "source": [
    "import geopandas as gpd\n",
    "import pandas as pd\n",
    "import numpy as np\n",
    "\n",
    "from skimage import io"
   ]
  },
  {
   "cell_type": "markdown",
   "metadata": {},
   "source": [
    "## Clean Reference Files"
   ]
  },
  {
   "cell_type": "code",
   "execution_count": null,
   "metadata": {},
   "outputs": [],
   "source": [
    "CAPSTONE_DATA_FOLDER = r'C:\\Users\\nelms\\Documents\\Penn\\CPLN-680\\Permit_Metrics\\data'\n",
    "#META_FOLDER = CAPSTONE_DATA_FOLDER + r'\\meta'\n",
    "#RAW_FOLDER = CAPSTONE_DATA_FOLDER + r'\\raw'\n",
    "CAPSTONE_CLEAN_FOLDER = CAPSTONE_DATA_FOLDER + r'\\clean'\n",
    "\n",
    "project_crs = 'EPSG:7132'\n",
    "\n",
    "path = CAPSTONE_CLEAN_FOLDER + r'\\sf_2010censusblock.geojson'\n",
    "sfblock = gpd.read_file(path).to_crs(project_crs)\n",
    "\n",
    "sftract = sfblock.dissolve(by='geoid10').reset_index(drop=False).drop('block_id', 1)\n",
    "\n",
    "sf_landform = sfblock.unary_union\n",
    "sf_landform = gpd.GeoDataFrame(geometry=[sf_landform], crs=project_crs)"
   ]
  },
  {
   "cell_type": "markdown",
   "metadata": {},
   "source": [
    "## Load Images"
   ]
  }
 ],
 "metadata": {
  "kernelspec": {
   "display_name": "Python 3 (ipykernel)",
   "language": "python",
   "name": "python3"
  },
  "language_info": {
   "codemirror_mode": {
    "name": "ipython",
    "version": 3
   },
   "file_extension": ".py",
   "mimetype": "text/x-python",
   "name": "python",
   "nbconvert_exporter": "python",
   "pygments_lexer": "ipython3",
   "version": "3.9.10"
  },
  "orig_nbformat": 4
 },
 "nbformat": 4,
 "nbformat_minor": 2
}
